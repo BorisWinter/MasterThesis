{
 "cells": [
  {
   "cell_type": "markdown",
   "metadata": {},
   "source": [
    "# Multi-agent adoption behaviour"
   ]
  },
  {
   "cell_type": "markdown",
   "metadata": {},
   "source": [
    "### Imports"
   ]
  },
  {
   "cell_type": "code",
   "execution_count": 1,
   "metadata": {},
   "outputs": [],
   "source": [
    "from Model.Code.src.models.EconomicModel import EconomicModel\n",
    "from Model.Code.src.models.NetworkModel import NetworkModel\n",
    "import numpy as _np\n",
    "import pandas as _pd\n",
    "from mesa.batchrunner import batch_run\n",
    "import logging\n",
    "from multiprocessing import freeze_support\n",
    "logging.basicConfig(level=logging.CRITICAL)\n"
   ]
  },
  {
   "cell_type": "markdown",
   "metadata": {},
   "source": [
    "### Experiments"
   ]
  },
  {
   "cell_type": "code",
   "execution_count": 2,
   "metadata": {},
   "outputs": [
    {
     "name": "stderr",
     "output_type": "stream",
     "text": [
      "1it [00:21, 21.16s/it]\n"
     ]
    }
   ],
   "source": [
    "\n",
    "if __name__ == '__main__':\n",
    "    freeze_support()\n",
    "\n",
    "    # for usage_trend in [\"STABLE-LARGE\", \"UP-LARGE\", \"DOWN-LARGE\"]:\n",
    "    for price_trend in [\"None\", \"VET-up\", \"VET-down\"]:\n",
    "        for other_user_strategy in [\"RANDOM\", \"UNIFORM\", \"A-ADAPTED\"]:\n",
    "\n",
    "            # General network settings\n",
    "            simulation_length = 7300\n",
    "            generation_rate = 0.000432\n",
    "            total_starting_VET = 86712634466.0  # 86,712,634,466\n",
    "            total_starting_VTHO = 38396354542  # 38,396,354,542\n",
    "\n",
    "            # Economic settings\n",
    "            VET_starting_price = 0.0235\n",
    "            VTHO_starting_price = 0.0015\n",
    "            VET_liquidity_ratio = 0.00674\n",
    "            VTHO_liquidity_ratio = 0.01226\n",
    "\n",
    "            # if usage_trend == \"STABLE-LARGE\":\n",
    "            #     _initial_multiplier = 0.6\n",
    "            #     _final_multiplier = 0.6\n",
    "            # elif usage_trend == \"UP-LARGE\":\n",
    "            #     _initial_multiplier = 0.75\n",
    "            #     _final_multiplier = 1\n",
    "            # elif usage_trend == \"DOWN-LARGE\":\n",
    "            #     _initial_multiplier = 0.75\n",
    "            #     _final_multiplier = 0.5\n",
    "\n",
    "            # Usage settings\n",
    "            initial_VTHO_usage = total_starting_VET * generation_rate * 0.8\n",
    "            final_VTHO_usage = total_starting_VET * generation_rate * 0.8\n",
    "            small_user_size = initial_VTHO_usage / 4\n",
    "            large_user_size = initial_VTHO_usage / 4\n",
    "\n",
    "            economic_model = EconomicModel(\n",
    "                economic_influences=\"None\",\n",
    "                price_trend_setting=price_trend,\n",
    "                price_trend_length=simulation_length,\n",
    "                steps_between_price_trend=simulation_length/365,\n",
    "                VET_starting_price=VET_starting_price,\n",
    "                VTHO_starting_price=VTHO_starting_price,\n",
    "                total_starting_VET=total_starting_VET,\n",
    "                total_starting_VTHO=total_starting_VTHO,\n",
    "                VET_liquidity_ratio=VET_liquidity_ratio,\n",
    "                VTHO_liquidity_ratio=VTHO_liquidity_ratio,\n",
    "            )\n",
    "\n",
    "            params = {\n",
    "                \"experiment_setting\": [\"MAS\"],\n",
    "                \"economic_model\": economic_model,\n",
    "                \"simulation_length\": simulation_length,\n",
    "                \"generation_rate\": generation_rate,\n",
    "                \"initial_VTHO_usage\": initial_VTHO_usage,\n",
    "                \"final_VTHO_usage\": final_VTHO_usage,\n",
    "                \"small_user_size\": small_user_size,\n",
    "                \"large_user_size\": large_user_size,\n",
    "                \"usage_trend\": [\"STABLE-LARGE\"],\n",
    "                \"usage_trend_length\": simulation_length,\n",
    "                \"starting_usage_trend_size\": 0,\n",
    "                \"user_strategies\": [other_user_strategy],\n",
    "                \"main_user_strategy\": [\"A-ADAPTED\"],\n",
    "            }\n",
    "            # Gather the results\n",
    "            batch_results = batch_run(model_cls=NetworkModel,\n",
    "                                      parameters=params, iterations=10000, data_collection_period=-1, max_steps=simulation_length+1)\n",
    "\n",
    "            # Convert the results to a DataFrame\n",
    "            results_df = _pd.DataFrame(batch_results)\n",
    "\n",
    "            # Export the results to csv\n",
    "            results_df.to_csv(\n",
    "                f\"Model/Experiments/mas/output/data/10000_price_trend/MAS_a-adapted_{other_user_strategy}_{price_trend}.csv\")\n",
    "\n",
    "            for name in dir():\n",
    "                # if not name.startswith(\"_\"):\n",
    "                if name in [\"economic_model\", \"params\", \"batch_results\", \"results_df\"]:\n",
    "                    del globals()[name]\n"
   ]
  }
 ],
 "metadata": {
  "kernelspec": {
   "display_name": "Python 3.9.7 ('base')",
   "language": "python",
   "name": "python3"
  },
  "language_info": {
   "codemirror_mode": {
    "name": "ipython",
    "version": 3
   },
   "file_extension": ".py",
   "mimetype": "text/x-python",
   "name": "python",
   "nbconvert_exporter": "python",
   "pygments_lexer": "ipython3",
   "version": "3.9.7"
  },
  "orig_nbformat": 4,
  "vscode": {
   "interpreter": {
    "hash": "760dee24a5ca5073c47f11f6c37bb580f3b08667931a70f30c5f81c0c6ea1418"
   }
  }
 },
 "nbformat": 4,
 "nbformat_minor": 2
}
