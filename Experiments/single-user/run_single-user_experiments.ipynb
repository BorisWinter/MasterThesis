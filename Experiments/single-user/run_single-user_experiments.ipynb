{
 "cells": [
  {
   "cell_type": "markdown",
   "metadata": {},
   "source": [
    "# Single-user experiments"
   ]
  },
  {
   "cell_type": "markdown",
   "metadata": {},
   "source": [
    "### Imports"
   ]
  },
  {
   "cell_type": "code",
   "execution_count": 1,
   "metadata": {},
   "outputs": [],
   "source": [
    "from mesa.batchrunner import batch_run\n",
    "import pandas as pd\n",
    "import numpy as np\n",
    "from Model.Code.src.models.NetworkModel import NetworkModel\n",
    "from Model.Code.src.models.EconomicModel import EconomicModel\n",
    "from multiprocessing import freeze_support"
   ]
  },
  {
   "cell_type": "markdown",
   "metadata": {},
   "source": [
    "### Run experiments"
   ]
  },
  {
   "cell_type": "code",
   "execution_count": 2,
   "metadata": {},
   "outputs": [
    {
     "name": "stderr",
     "output_type": "stream",
     "text": [
      "WARNING:root:Initialized the economic model.\n",
      "10000it [07:40, 21.73it/s]\n",
      "WARNING:root:Initialized the economic model.\n",
      "10000it [08:13, 20.25it/s]\n",
      "WARNING:root:Initialized the economic model.\n",
      "10000it [07:20, 22.70it/s]\n",
      "WARNING:root:Initialized the economic model.\n",
      "10000it [07:20, 22.70it/s]\n",
      "WARNING:root:Initialized the economic model.\n",
      "10000it [07:59, 20.86it/s]\n",
      "WARNING:root:Initialized the economic model.\n",
      "10000it [08:11, 20.35it/s]\n"
     ]
    }
   ],
   "source": [
    "if __name__ == '__main__':\n",
    "    freeze_support()\n",
    "\n",
    "    for main_user_strategy in [\"RANDOM\", \"KEEP-RENTING\", \"INSTANT-BUY\", \"DET\", \"RAND\", \"A-ADAPTED\"]:\n",
    "\n",
    "        # Set the random seed\n",
    "        np.random.seed(42)\n",
    "\n",
    "        # General settings\n",
    "        _simulation_length = 3650\n",
    "        _generation_rate = 0.000432\n",
    "        _total_starting_VET = 86712634466.0  # 86,712,634,466\n",
    "        _total_starting_VTHO = 38396354542  # 38,396,354,542\n",
    "\n",
    "        # Economic settings\n",
    "        _VET_starting_price = 0.0235\n",
    "        _VTHO_starting_price = 0.0015\n",
    "        _VET_liquidity_ratio = 0.00674\n",
    "        _VTHO_liquidity_ratio = 0.01226\n",
    "\n",
    "        # Usage settings\n",
    "        _final_VTHO_usage = 1\n",
    "        _initial_VTHO_usage = _final_VTHO_usage * 1\n",
    "        _small_user_size = _final_VTHO_usage * 1\n",
    "        _large_user_size = _final_VTHO_usage * 1\n",
    "\n",
    "        _economic_model = EconomicModel(\n",
    "            economic_influences = \"None\",\n",
    "            price_trend_setting = \"None\",\n",
    "            price_trend_length = _simulation_length,\n",
    "            steps_between_price_trend = _simulation_length/365,\n",
    "            VET_starting_price = _VET_starting_price,\n",
    "            VTHO_starting_price = _VTHO_starting_price,\n",
    "            total_starting_VET = _total_starting_VET,  # 86,712,634,466\n",
    "            total_starting_VTHO = _total_starting_VTHO, # 38,396,354,542\n",
    "            VET_liquidity_ratio = _VET_liquidity_ratio,\n",
    "            VTHO_liquidity_ratio = _VTHO_liquidity_ratio,\n",
    "        )\n",
    "\n",
    "        params = {\n",
    "            \"experiment_setting\": [\"OG-SKI-RENTAL\"],\n",
    "            \"economic_model\" : _economic_model,\n",
    "            \"simulation_length\":_simulation_length,\n",
    "            \"generation_rate\":_generation_rate,\n",
    "            \"initial_VTHO_usage\": _initial_VTHO_usage,\n",
    "            \"final_VTHO_usage\": _final_VTHO_usage,\n",
    "            \"small_user_size\":_small_user_size,\n",
    "            \"large_user_size\":_large_user_size,\n",
    "            \"usage_trend\": [\"STABLE-SMALL\"],\n",
    "            \"usage_trend_length\": _simulation_length,\n",
    "            \"starting_usage_trend_size\": 0,\n",
    "            \"user_strategies\": [\"RANDOM\"],\n",
    "            \"main_user_strategy\": [main_user_strategy],\n",
    "            # \"main_user_strategy\": [\"DET\", \"RAND\", \"A-ADAPTED\"],\n",
    "        }\n",
    "\n",
    "        # Gather the results\n",
    "        batch_results = batch_run(model_cls=NetworkModel,\n",
    "                                parameters=params, iterations=10000, data_collection_period=-1, max_steps=_simulation_length+1, number_processes=None)\n",
    "\n",
    "        # Convert the results to a DataFrame\n",
    "        results_df = pd.DataFrame(batch_results)\n",
    "\n",
    "        # Export the results to csv\n",
    "        results_df.to_csv(f\"Model/Experiments/single-user/output/data/single-user_{main_user_strategy}.csv\")\n",
    "\n",
    "        # Delete results to free up memory\n",
    "        del batch_results\n",
    "        del results_df"
   ]
  }
 ],
 "metadata": {
  "kernelspec": {
   "display_name": "Python 3.9.7 ('base')",
   "language": "python",
   "name": "python3"
  },
  "language_info": {
   "codemirror_mode": {
    "name": "ipython",
    "version": 3
   },
   "file_extension": ".py",
   "mimetype": "text/x-python",
   "name": "python",
   "nbconvert_exporter": "python",
   "pygments_lexer": "ipython3",
   "version": "3.9.7"
  },
  "orig_nbformat": 4,
  "vscode": {
   "interpreter": {
    "hash": "760dee24a5ca5073c47f11f6c37bb580f3b08667931a70f30c5f81c0c6ea1418"
   }
  }
 },
 "nbformat": 4,
 "nbformat_minor": 2
}
