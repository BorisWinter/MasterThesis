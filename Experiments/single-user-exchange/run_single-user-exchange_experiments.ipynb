{
 "cells": [
  {
   "cell_type": "markdown",
   "metadata": {},
   "source": [
    "# OG Ski-Rental Experiments"
   ]
  },
  {
   "cell_type": "markdown",
   "metadata": {},
   "source": [
    "### Imports"
   ]
  },
  {
   "cell_type": "code",
   "execution_count": 1,
   "metadata": {},
   "outputs": [],
   "source": [
    "from mesa.batchrunner import batch_run\n",
    "import pandas as pd\n",
    "import numpy as np\n",
    "from Model.Code.src.models.NetworkModel import NetworkModel\n",
    "from Model.Code.src.models.EconomicModel import EconomicModel\n",
    "from multiprocessing import freeze_support\n",
    "import logging\n",
    "\n",
    "# Set the random seed\n",
    "np.random.seed(42)\n",
    "\n",
    "# Set logging level\n",
    "logging.basicConfig(level=logging.CRITICAL)"
   ]
  },
  {
   "cell_type": "markdown",
   "metadata": {},
   "source": [
    "### Experiments"
   ]
  },
  {
   "cell_type": "code",
   "execution_count": 2,
   "metadata": {},
   "outputs": [
    {
     "name": "stderr",
     "output_type": "stream",
     "text": [
      "100it [00:37,  2.65it/s]\n",
      "100it [00:45,  2.18it/s]\n",
      "100it [00:49,  2.02it/s]\n",
      "100it [00:47,  2.10it/s]\n",
      "100it [00:52,  1.92it/s]\n",
      "100it [00:55,  1.81it/s]\n",
      "100it [00:52,  1.92it/s]\n",
      "100it [00:56,  1.77it/s]\n",
      "100it [00:50,  1.96it/s]\n",
      "100it [00:55,  1.81it/s]\n",
      "100it [01:04,  1.56it/s]\n",
      "100it [01:11,  1.39it/s]\n",
      "0it [00:08, ?it/s]\n"
     ]
    },
    {
     "ename": "KeyboardInterrupt",
     "evalue": "",
     "output_type": "error",
     "traceback": [
      "\u001b[1;31m---------------------------------------------------------------------------\u001b[0m",
      "\u001b[1;31mIndexError\u001b[0m                                Traceback (most recent call last)",
      "\u001b[1;32mc:\\Users\\Boris\\anaconda3\\lib\\multiprocessing\\pool.py\u001b[0m in \u001b[0;36mnext\u001b[1;34m(self, timeout)\u001b[0m\n\u001b[0;32m    852\u001b[0m             \u001b[1;32mtry\u001b[0m\u001b[1;33m:\u001b[0m\u001b[1;33m\u001b[0m\u001b[1;33m\u001b[0m\u001b[0m\n\u001b[1;32m--> 853\u001b[1;33m                 \u001b[0mitem\u001b[0m \u001b[1;33m=\u001b[0m \u001b[0mself\u001b[0m\u001b[1;33m.\u001b[0m\u001b[0m_items\u001b[0m\u001b[1;33m.\u001b[0m\u001b[0mpopleft\u001b[0m\u001b[1;33m(\u001b[0m\u001b[1;33m)\u001b[0m\u001b[1;33m\u001b[0m\u001b[1;33m\u001b[0m\u001b[0m\n\u001b[0m\u001b[0;32m    854\u001b[0m             \u001b[1;32mexcept\u001b[0m \u001b[0mIndexError\u001b[0m\u001b[1;33m:\u001b[0m\u001b[1;33m\u001b[0m\u001b[1;33m\u001b[0m\u001b[0m\n",
      "\u001b[1;31mIndexError\u001b[0m: pop from an empty deque",
      "\nDuring handling of the above exception, another exception occurred:\n",
      "\u001b[1;31mKeyboardInterrupt\u001b[0m                         Traceback (most recent call last)",
      "\u001b[1;32m~\\AppData\\Local\\Temp/ipykernel_4476/565612279.py\u001b[0m in \u001b[0;36m<module>\u001b[1;34m\u001b[0m\n\u001b[0;32m     54\u001b[0m             }\n\u001b[0;32m     55\u001b[0m             \u001b[1;31m# Gather the results\u001b[0m\u001b[1;33m\u001b[0m\u001b[1;33m\u001b[0m\u001b[0m\n\u001b[1;32m---> 56\u001b[1;33m             batch_results = batch_run(model_cls=NetworkModel,\n\u001b[0m\u001b[0;32m     57\u001b[0m                                     parameters=params, iterations=100, data_collection_period=-1, max_steps=_simulation_length+1)\n\u001b[0;32m     58\u001b[0m \u001b[1;33m\u001b[0m\u001b[0m\n",
      "\u001b[1;32mc:\\Users\\Boris\\anaconda3\\lib\\site-packages\\mesa\\batchrunner.py\u001b[0m in \u001b[0;36mbatch_run\u001b[1;34m(model_cls, parameters, number_processes, iterations, data_collection_period, max_steps, display_progress)\u001b[0m\n\u001b[0;32m     97\u001b[0m             \u001b[0miteration_counter\u001b[0m\u001b[1;33m:\u001b[0m \u001b[0mCounter\u001b[0m\u001b[1;33m[\u001b[0m\u001b[0mTuple\u001b[0m\u001b[1;33m[\u001b[0m\u001b[0mAny\u001b[0m\u001b[1;33m,\u001b[0m \u001b[1;33m...\u001b[0m\u001b[1;33m]\u001b[0m\u001b[1;33m]\u001b[0m \u001b[1;33m=\u001b[0m \u001b[0mCounter\u001b[0m\u001b[1;33m(\u001b[0m\u001b[1;33m)\u001b[0m\u001b[1;33m\u001b[0m\u001b[1;33m\u001b[0m\u001b[0m\n\u001b[0;32m     98\u001b[0m             \u001b[1;32mwith\u001b[0m \u001b[0mPool\u001b[0m\u001b[1;33m(\u001b[0m\u001b[0mnumber_processes\u001b[0m\u001b[1;33m)\u001b[0m \u001b[1;32mas\u001b[0m \u001b[0mp\u001b[0m\u001b[1;33m:\u001b[0m\u001b[1;33m\u001b[0m\u001b[1;33m\u001b[0m\u001b[0m\n\u001b[1;32m---> 99\u001b[1;33m                 \u001b[1;32mfor\u001b[0m \u001b[0mparamValues\u001b[0m\u001b[1;33m,\u001b[0m \u001b[0mrawdata\u001b[0m \u001b[1;32min\u001b[0m \u001b[0mp\u001b[0m\u001b[1;33m.\u001b[0m\u001b[0mimap_unordered\u001b[0m\u001b[1;33m(\u001b[0m\u001b[0mprocess_func\u001b[0m\u001b[1;33m,\u001b[0m \u001b[0mkwargs_list\u001b[0m\u001b[1;33m)\u001b[0m\u001b[1;33m:\u001b[0m\u001b[1;33m\u001b[0m\u001b[1;33m\u001b[0m\u001b[0m\n\u001b[0m\u001b[0;32m    100\u001b[0m                     \u001b[0miteration_counter\u001b[0m\u001b[1;33m[\u001b[0m\u001b[0mparamValues\u001b[0m\u001b[1;33m]\u001b[0m \u001b[1;33m+=\u001b[0m \u001b[1;36m1\u001b[0m\u001b[1;33m\u001b[0m\u001b[1;33m\u001b[0m\u001b[0m\n\u001b[0;32m    101\u001b[0m                     \u001b[0miteration\u001b[0m \u001b[1;33m=\u001b[0m \u001b[0miteration_counter\u001b[0m\u001b[1;33m[\u001b[0m\u001b[0mparamValues\u001b[0m\u001b[1;33m]\u001b[0m\u001b[1;33m\u001b[0m\u001b[1;33m\u001b[0m\u001b[0m\n",
      "\u001b[1;32mc:\\Users\\Boris\\anaconda3\\lib\\multiprocessing\\pool.py\u001b[0m in \u001b[0;36mnext\u001b[1;34m(self, timeout)\u001b[0m\n\u001b[0;32m    856\u001b[0m                     \u001b[0mself\u001b[0m\u001b[1;33m.\u001b[0m\u001b[0m_pool\u001b[0m \u001b[1;33m=\u001b[0m \u001b[1;32mNone\u001b[0m\u001b[1;33m\u001b[0m\u001b[1;33m\u001b[0m\u001b[0m\n\u001b[0;32m    857\u001b[0m                     \u001b[1;32mraise\u001b[0m \u001b[0mStopIteration\u001b[0m \u001b[1;32mfrom\u001b[0m \u001b[1;32mNone\u001b[0m\u001b[1;33m\u001b[0m\u001b[1;33m\u001b[0m\u001b[0m\n\u001b[1;32m--> 858\u001b[1;33m                 \u001b[0mself\u001b[0m\u001b[1;33m.\u001b[0m\u001b[0m_cond\u001b[0m\u001b[1;33m.\u001b[0m\u001b[0mwait\u001b[0m\u001b[1;33m(\u001b[0m\u001b[0mtimeout\u001b[0m\u001b[1;33m)\u001b[0m\u001b[1;33m\u001b[0m\u001b[1;33m\u001b[0m\u001b[0m\n\u001b[0m\u001b[0;32m    859\u001b[0m                 \u001b[1;32mtry\u001b[0m\u001b[1;33m:\u001b[0m\u001b[1;33m\u001b[0m\u001b[1;33m\u001b[0m\u001b[0m\n\u001b[0;32m    860\u001b[0m                     \u001b[0mitem\u001b[0m \u001b[1;33m=\u001b[0m \u001b[0mself\u001b[0m\u001b[1;33m.\u001b[0m\u001b[0m_items\u001b[0m\u001b[1;33m.\u001b[0m\u001b[0mpopleft\u001b[0m\u001b[1;33m(\u001b[0m\u001b[1;33m)\u001b[0m\u001b[1;33m\u001b[0m\u001b[1;33m\u001b[0m\u001b[0m\n",
      "\u001b[1;32mc:\\Users\\Boris\\anaconda3\\lib\\threading.py\u001b[0m in \u001b[0;36mwait\u001b[1;34m(self, timeout)\u001b[0m\n\u001b[0;32m    310\u001b[0m         \u001b[1;32mtry\u001b[0m\u001b[1;33m:\u001b[0m    \u001b[1;31m# restore state no matter what (e.g., KeyboardInterrupt)\u001b[0m\u001b[1;33m\u001b[0m\u001b[1;33m\u001b[0m\u001b[0m\n\u001b[0;32m    311\u001b[0m             \u001b[1;32mif\u001b[0m \u001b[0mtimeout\u001b[0m \u001b[1;32mis\u001b[0m \u001b[1;32mNone\u001b[0m\u001b[1;33m:\u001b[0m\u001b[1;33m\u001b[0m\u001b[1;33m\u001b[0m\u001b[0m\n\u001b[1;32m--> 312\u001b[1;33m                 \u001b[0mwaiter\u001b[0m\u001b[1;33m.\u001b[0m\u001b[0macquire\u001b[0m\u001b[1;33m(\u001b[0m\u001b[1;33m)\u001b[0m\u001b[1;33m\u001b[0m\u001b[1;33m\u001b[0m\u001b[0m\n\u001b[0m\u001b[0;32m    313\u001b[0m                 \u001b[0mgotit\u001b[0m \u001b[1;33m=\u001b[0m \u001b[1;32mTrue\u001b[0m\u001b[1;33m\u001b[0m\u001b[1;33m\u001b[0m\u001b[0m\n\u001b[0;32m    314\u001b[0m             \u001b[1;32melse\u001b[0m\u001b[1;33m:\u001b[0m\u001b[1;33m\u001b[0m\u001b[1;33m\u001b[0m\u001b[0m\n",
      "\u001b[1;31mKeyboardInterrupt\u001b[0m: "
     ]
    }
   ],
   "source": [
    "\n",
    "if __name__ == '__main__':\n",
    "    freeze_support()\n",
    "\n",
    "    for main_user_strategy in [\"DET\"]:\n",
    "        for usage_size in [i/100 for i in range(45, 101, 5)]:\n",
    "\n",
    "            # General network settings\n",
    "            simulation_length = 3650\n",
    "            generation_rate = 0.000432\n",
    "            total_starting_VET = 86712634466.0  # 86,712,634,466\n",
    "            total_starting_VTHO = 38396354542  # 38,396,354,542\n",
    "\n",
    "            # Economic settings\n",
    "            VET_starting_price = 0.0235\n",
    "            VTHO_starting_price = 0.0015\n",
    "            VET_liquidity_ratio = 0.00674\n",
    "            VTHO_liquidity_ratio = 0.01226\n",
    "\n",
    "            # Usage settings\n",
    "            max_VTHO_usage = total_starting_VET * generation_rate * usage_size\n",
    "            initial_VTHO_usage = max_VTHO_usage * 1\n",
    "            small_user_size = max_VTHO_usage * 1\n",
    "            large_user_size = max_VTHO_usage * 1\n",
    "\n",
    "            economic_model = EconomicModel(\n",
    "                economic_influences=\"None\",\n",
    "                price_trend_setting=\"None\",\n",
    "                price_trend_length=simulation_length,\n",
    "                steps_between_price_trend=simulation_length/365,\n",
    "                VET_starting_price=VET_starting_price,\n",
    "                VTHO_starting_price=VTHO_starting_price,\n",
    "                total_starting_VET=total_starting_VET,\n",
    "                total_starting_VTHO=total_starting_VTHO,\n",
    "                VET_liquidity_ratio=VET_liquidity_ratio,\n",
    "                VTHO_liquidity_ratio=VTHO_liquidity_ratio,\n",
    "            )\n",
    "\n",
    "            params = {\n",
    "                \"experiment_setting\": [\"SINGLE-USER-EXCHANGE\"],\n",
    "                \"economic_model\": economic_model,\n",
    "                \"simulation_length\": simulation_length,\n",
    "                \"generation_rate\": generation_rate,\n",
    "                \"initial_VTHO_usage\": initial_VTHO_usage,\n",
    "                \"final_VTHO_usage\": max_VTHO_usage,\n",
    "                \"small_user_size\": small_user_size,\n",
    "                \"large_user_size\": large_user_size,\n",
    "                \"usage_trend\": [\"STABLE-SMALL\"],\n",
    "                \"usage_trend_length\": simulation_length,\n",
    "                \"starting_usage_trend_size\": 0,\n",
    "                \"user_strategies\": [\"RANDOM\"],\n",
    "                \"main_user_strategy\": [main_user_strategy],\n",
    "                # \"main_user_strategy\": [\"DET\", \"RAND\", \"A-ADAPTED\"],\n",
    "            }\n",
    "            # Gather the results\n",
    "            batch_results = batch_run(model_cls=NetworkModel,\n",
    "                                      parameters=params, iterations=10000, data_collection_period=-1, max_steps=simulation_length+1)\n",
    "\n",
    "            # Convert the results to a DataFrame\n",
    "            results_df = _pd.DataFrame(batch_results)\n",
    "\n",
    "            # Export the results to csv\n",
    "            results_df.to_csv(\n",
    "                f\"Model/Experiments/single-user-exchange/output/data/10000/single-user-exchange_{main_user_strategy}_{usage_size}.csv\")\n",
    "\n",
    "            for name in dir():\n",
    "                # if not name.startswith(\"_\"):\n",
    "                if name in [\"economic_model\", \"params\", \"batch_results\", \"results_df\"]:\n",
    "                    del globals()[name]\n"
   ]
  }
 ],
 "metadata": {
  "kernelspec": {
   "display_name": "Python 3.9.7 ('base')",
   "language": "python",
   "name": "python3"
  },
  "language_info": {
   "codemirror_mode": {
    "name": "ipython",
    "version": 3
   },
   "file_extension": ".py",
   "mimetype": "text/x-python",
   "name": "python",
   "nbconvert_exporter": "python",
   "pygments_lexer": "ipython3",
   "version": "3.9.7"
  },
  "orig_nbformat": 4,
  "vscode": {
   "interpreter": {
    "hash": "760dee24a5ca5073c47f11f6c37bb580f3b08667931a70f30c5f81c0c6ea1418"
   }
  }
 },
 "nbformat": 4,
 "nbformat_minor": 2
}
